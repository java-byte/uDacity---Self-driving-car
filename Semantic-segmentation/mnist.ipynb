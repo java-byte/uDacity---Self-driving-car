{
 "cells": [
  {
   "cell_type": "code",
   "execution_count": 1,
   "metadata": {},
   "outputs": [],
   "source": [
    "%matplotlib inline\n",
    "\n",
    "import numpy as np\n",
    "import matplotlib.pyplot as plt\n",
    "import pandas as pd\n",
    "import tensorflow as tf"
   ]
  },
  {
   "cell_type": "code",
   "execution_count": 2,
   "metadata": {},
   "outputs": [
    {
     "name": "stderr",
     "output_type": "stream",
     "text": [
      "C:\\Users\\prince.yadav\\AppData\\Local\\Continuum\\miniconda3\\envs\\semantic\\lib\\site-packages\\ipykernel_launcher.py:1: FutureWarning: Method .as_matrix will be removed in a future version. Use .values instead.\n",
      "  \"\"\"Entry point for launching an IPython kernel.\n"
     ]
    }
   ],
   "source": [
    "dataframe = pd.read_csv('train.csv').as_matrix()"
   ]
  },
  {
   "cell_type": "code",
   "execution_count": 3,
   "metadata": {},
   "outputs": [
    {
     "data": {
      "text/plain": [
       "(42000, 785)"
      ]
     },
     "execution_count": 3,
     "metadata": {},
     "output_type": "execute_result"
    }
   ],
   "source": [
    "dataframe.shape"
   ]
  },
  {
   "cell_type": "code",
   "execution_count": 4,
   "metadata": {},
   "outputs": [],
   "source": [
    "y, X = dataframe[:,0], dataframe[:, 1:]\n",
    "y = y.reshape([-1,1])\n",
    "\n",
    "indices = list(range(len(X)))\n",
    "np.random.shuffle(indices)\n",
    "\n",
    "X = X[indices].astype(np.float32)\n",
    "y = y[indices].astype(np.float32)"
   ]
  },
  {
   "cell_type": "code",
   "execution_count": 5,
   "metadata": {},
   "outputs": [],
   "source": [
    "# Split it into train and validation\n",
    "n_train = int(0.7 * len(y))\n",
    "\n",
    "y_train, X_train, y_test, X_test = y[: n_train], X[: n_train, :], y[n_train:], X[n_train:, :]\n",
    "\n",
    "X_train -= 127.0\n",
    "X_train /= 127.0\n",
    "\n",
    "X_test  -= 127.0\n",
    "X_test /= 127.0"
   ]
  },
  {
   "cell_type": "code",
   "execution_count": 6,
   "metadata": {},
   "outputs": [],
   "source": [
    "## Creating a batches of images\n",
    "\n",
    "def get_next_batch(batch_size, X, y):\n",
    "    for i in range(0, len(y), batch_size):\n",
    "        start = i\n",
    "        end = min(len(y), i+batch_size)\n",
    "        \n",
    "        ## in case of yield for loop will be stuck at place from where function terminated. \n",
    "        ## If we will not use yield for loop will start from 0 again when function is get called\n",
    "        yield X[start: start+batch_size, :] , y[start: start+batch_size]"
   ]
  },
  {
   "cell_type": "code",
   "execution_count": 7,
   "metadata": {},
   "outputs": [],
   "source": [
    "def combine(tensor_one, tensor_two):\n",
    "    return tf.div(tf.add(tensor_one, tensor_two), 2)"
   ]
  },
  {
   "cell_type": "code",
   "execution_count": 8,
   "metadata": {},
   "outputs": [],
   "source": [
    "input_ = tf.placeholder(dtype=tf.float32, shape=(None, X_train.shape[1]))\n",
    "labels = tf.placeholder(dtype=tf.int32, shape=(None, 1))\n",
    "learning_rate_ph = tf.placeholder(dtype=tf.float32)\n",
    "keep_prob = tf.placeholder(dtype=tf.float32)"
   ]
  },
  {
   "cell_type": "code",
   "execution_count": 9,
   "metadata": {},
   "outputs": [],
   "source": [
    "def nn():\n",
    "    input_2d = tf.reshape(input_,[-1,28,28,1])\n",
    "    l1_1 = tf.layers.conv2d(input_2d,8,5,1,activation=tf.nn.relu)\n",
    "    l1_2 = tf.layers.average_pooling2d(l1_1,2,1)\n",
    "    l1_3 = tf.layers.conv2d(l1_2,8,3,1,activation=tf.nn.relu)\n",
    "    l1_4 = tf.layers.max_pooling2d(l1_3,2,2)\n",
    "    l1_5 = tf.layers.flatten(l1_4)\n",
    "    l2   = tf.layers.dense(l1_5, 32, activation=tf.nn.relu)\n",
    "    out  = tf.layers.dense(l2,10)\n",
    "    \n",
    "    # Define the cost\n",
    "    cost = tf.reduce_mean(tf.nn.softmax_cross_entropy_with_logits(logits=out, labels=tf.one_hot(labels,depth=10)))\n",
    "    \n",
    "    # Apply an optimizer\n",
    "    optimizer = tf.train.AdamOptimizer(learning_rate=learning_rate_ph).minimize(cost)\n",
    "    \n",
    "    return cost, optimizer, out"
   ]
  },
  {
   "cell_type": "code",
   "execution_count": null,
   "metadata": {},
   "outputs": [],
   "source": []
  },
  {
   "cell_type": "code",
   "execution_count": 10,
   "metadata": {},
   "outputs": [
    {
     "name": "stdout",
     "output_type": "stream",
     "text": [
      "WARNING:tensorflow:From <ipython-input-9-a141c730ecad>:12: softmax_cross_entropy_with_logits (from tensorflow.python.ops.nn_ops) is deprecated and will be removed in a future version.\n",
      "Instructions for updating:\n",
      "\n",
      "Future major versions of TensorFlow will allow gradients to flow\n",
      "into the labels input on backprop by default.\n",
      "\n",
      "See @{tf.nn.softmax_cross_entropy_with_logits_v2}.\n",
      "\n"
     ]
    }
   ],
   "source": [
    "cost, optimizer, output = nn()"
   ]
  },
  {
   "cell_type": "code",
   "execution_count": null,
   "metadata": {
    "scrolled": false
   },
   "outputs": [
    {
     "name": "stderr",
     "output_type": "stream",
     "text": [
      "\r",
      "  0%|                                                                                                                                           | 0/75 [00:00<?, ?it/s]"
     ]
    },
    {
     "name": "stdout",
     "output_type": "stream",
     "text": [
      "train indices 23519 val indices 5880\n",
      "Epoch: 0001 cost= 0.450943963\n",
      "Train Accuracy: 0.8713863950697017\n",
      "Validation Accuracy: 0.8673682941795231\n",
      "Test Accuracy: 0.8706304824561404\n",
      "\n"
     ]
    },
    {
     "name": "stderr",
     "output_type": "stream",
     "text": [
      "\r",
      "  1%|█▋                                                                                                                                 | 1/75 [00:37<46:01, 37.32s/it]"
     ]
    },
    {
     "name": "stdout",
     "output_type": "stream",
     "text": [
      "train indices 23519 val indices 5880\n",
      "Epoch: 0002 cost= 0.212848010\n",
      "Train Accuracy: 0.9371934557174889\n",
      "Validation Accuracy: 0.9327993513323982\n",
      "Test Accuracy: 0.9356277412280701\n",
      "\n"
     ]
    },
    {
     "name": "stderr",
     "output_type": "stream",
     "text": [
      "\r",
      "  3%|███▍                                                                                                                               | 2/75 [01:13<44:42, 36.75s/it]"
     ]
    },
    {
     "name": "stdout",
     "output_type": "stream",
     "text": [
      "train indices 23519 val indices 5880\n",
      "Epoch: 0003 cost= 0.156486082\n",
      "Train Accuracy: 0.9530857775638526\n",
      "Validation Accuracy: 0.9515416812762973\n",
      "Test Accuracy: 0.9499232456140351\n",
      "\n"
     ]
    },
    {
     "name": "stderr",
     "output_type": "stream",
     "text": [
      "\r",
      "  4%|█████▏                                                                                                                             | 3/75 [01:51<44:39, 37.22s/it]"
     ]
    },
    {
     "name": "stdout",
     "output_type": "stream",
     "text": [
      "train indices 23519 val indices 5880\n",
      "Epoch: 0004 cost= 0.135224029\n",
      "Train Accuracy: 0.9603226978333983\n",
      "Validation Accuracy: 0.9605594758064516\n",
      "Test Accuracy: 0.9570723684210526\n",
      "\n"
     ]
    },
    {
     "name": "stderr",
     "output_type": "stream",
     "text": [
      "\r",
      "  5%|██████▉                                                                                                                            | 4/75 [02:31<44:48, 37.87s/it]"
     ]
    },
    {
     "name": "stdout",
     "output_type": "stream",
     "text": [
      "train indices 23519 val indices 5880\n",
      "Epoch: 0005 cost= 0.104691284\n",
      "Train Accuracy: 0.9685535070189121\n",
      "Validation Accuracy: 0.9654683117110799\n",
      "Test Accuracy: 0.965938870614035\n",
      "\n"
     ]
    },
    {
     "name": "stderr",
     "output_type": "stream",
     "text": [
      "\r",
      "  7%|████████▋                                                                                                                          | 5/75 [03:10<44:24, 38.06s/it]"
     ]
    },
    {
     "name": "stdout",
     "output_type": "stream",
     "text": [
      "train indices 23519 val indices 5880\n",
      "Epoch: 0006 cost= 0.088875108\n",
      "Train Accuracy: 0.9737775166333593\n",
      "Validation Accuracy: 0.9695663131136045\n",
      "Test Accuracy: 0.969376370614035\n",
      "\n"
     ]
    },
    {
     "name": "stderr",
     "output_type": "stream",
     "text": [
      "\r",
      "  8%|██████████▍                                                                                                                        | 6/75 [03:47<43:32, 37.86s/it]"
     ]
    },
    {
     "name": "stdout",
     "output_type": "stream",
     "text": [
      "train indices 23519 val indices 5880\n",
      "Epoch: 0007 cost= 0.081723977\n",
      "Train Accuracy: 0.9745528261478845\n",
      "Validation Accuracy: 0.9739820739831697\n",
      "Test Accuracy: 0.9711334978070175\n",
      "\n"
     ]
    },
    {
     "name": "stderr",
     "output_type": "stream",
     "text": [
      "\r",
      "  9%|████████████▏                                                                                                                      | 7/75 [04:24<42:46, 37.75s/it]"
     ]
    },
    {
     "name": "stdout",
     "output_type": "stream",
     "text": [
      "train indices 23519 val indices 5880\n",
      "Epoch: 0008 cost= 0.072133922\n",
      "Train Accuracy: 0.9788789085348021\n",
      "Validation Accuracy: 0.9777020511921459\n",
      "Test Accuracy: 0.9747272478070176\n",
      "\n"
     ]
    },
    {
     "name": "stderr",
     "output_type": "stream",
     "text": [
      "\r",
      " 11%|█████████████▉                                                                                                                     | 8/75 [05:02<42:14, 37.82s/it]"
     ]
    },
    {
     "name": "stdout",
     "output_type": "stream",
     "text": [
      "train indices 23519 val indices 5880\n",
      "Epoch: 0009 cost= 0.065009378\n",
      "Train Accuracy: 0.9806008877217781\n",
      "Validation Accuracy: 0.9792634554698457\n",
      "Test Accuracy: 0.9746491228070175\n",
      "\n"
     ]
    },
    {
     "name": "stderr",
     "output_type": "stream",
     "text": [
      "\r",
      " 12%|███████████████▋                                                                                                                   | 9/75 [05:42<41:49, 38.02s/it]"
     ]
    },
    {
     "name": "stdout",
     "output_type": "stream",
     "text": [
      "train indices 23519 val indices 5880\n",
      "Epoch: 0010 cost= 0.063846380\n",
      "Train Accuracy: 0.980588321310197\n",
      "Validation Accuracy: 0.9797674877279102\n",
      "Test Accuracy: 0.9750397478070175\n",
      "\n"
     ]
    },
    {
     "name": "stderr",
     "output_type": "stream",
     "text": [
      "\r",
      " 13%|█████████████████▎                                                                                                                | 10/75 [06:19<41:07, 37.96s/it]"
     ]
    },
    {
     "name": "stdout",
     "output_type": "stream",
     "text": [
      "train indices 23519 val indices 5880\n",
      "Epoch: 0011 cost= 0.055937660\n",
      "Train Accuracy: 0.9821545531536361\n",
      "Validation Accuracy: 0.9794113779803647\n",
      "Test Accuracy: 0.9751178728070176\n",
      "\n"
     ]
    },
    {
     "name": "stderr",
     "output_type": "stream",
     "text": [
      "\r",
      " 15%|███████████████████                                                                                                               | 11/75 [06:55<40:19, 37.81s/it]"
     ]
    },
    {
     "name": "stdout",
     "output_type": "stream",
     "text": [
      "train indices 23519 val indices 5880\n",
      "Epoch: 0012 cost= 0.056632703\n",
      "Train Accuracy: 0.9829424290797427\n",
      "Validation Accuracy: 0.9807700736325387\n",
      "Test Accuracy: 0.9747272478070176\n",
      "\n"
     ]
    },
    {
     "name": "stderr",
     "output_type": "stream",
     "text": [
      "\r",
      " 16%|████████████████████▊                                                                                                             | 12/75 [07:32<39:36, 37.72s/it]"
     ]
    },
    {
     "name": "stdout",
     "output_type": "stream",
     "text": [
      "train indices 23519 val indices 5880\n",
      "Epoch: 0013 cost= 0.051833744\n",
      "Train Accuracy: 0.9846046226116202\n",
      "Validation Accuracy: 0.9836792163394109\n",
      "Test Accuracy: 0.9768366228070176\n",
      "\n"
     ]
    },
    {
     "name": "stderr",
     "output_type": "stream",
     "text": [
      "\r",
      " 17%|██████████████████████▌                                                                                                           | 13/75 [08:10<39:00, 37.75s/it]"
     ]
    },
    {
     "name": "stdout",
     "output_type": "stream",
     "text": [
      "train indices 23519 val indices 5880\n",
      "Epoch: 0014 cost= 0.048576314\n",
      "Train Accuracy: 0.9855073098435367\n",
      "Validation Accuracy: 0.9841777699859747\n",
      "Test Accuracy: 0.9791022478070175\n",
      "\n"
     ]
    },
    {
     "name": "stderr",
     "output_type": "stream",
     "text": [
      "\r",
      " 19%|████████████████████████▎                                                                                                         | 14/75 [08:46<38:15, 37.64s/it]"
     ]
    },
    {
     "name": "stdout",
     "output_type": "stream",
     "text": [
      "train indices 23519 val indices 5880\n",
      "Epoch: 0015 cost= 0.042540048\n",
      "Train Accuracy: 0.9873770395666795\n",
      "Validation Accuracy: 0.9882538569424966\n",
      "Test Accuracy: 0.9784772478070175\n",
      "\n"
     ]
    },
    {
     "name": "stderr",
     "output_type": "stream",
     "text": [
      "\r",
      " 20%|██████████████████████████                                                                                                        | 15/75 [09:23<37:34, 37.58s/it]"
     ]
    },
    {
     "name": "stdout",
     "output_type": "stream",
     "text": [
      "train indices 23519 val indices 5880\n",
      "Epoch: 0016 cost= 0.037490313\n",
      "Train Accuracy: 0.9899607699478455\n",
      "Validation Accuracy: 0.9852077489481066\n",
      "Test Accuracy: 0.9796491228070175\n",
      "\n"
     ]
    },
    {
     "name": "stderr",
     "output_type": "stream",
     "text": [
      "\r",
      " 21%|███████████████████████████▋                                                                                                      | 16/75 [10:02<37:02, 37.67s/it]"
     ]
    },
    {
     "name": "stdout",
     "output_type": "stream",
     "text": [
      "train indices 23519 val indices 5880\n",
      "Epoch: 0017 cost= 0.038481005\n",
      "Train Accuracy: 0.9883410356550985\n",
      "Validation Accuracy: 0.9884401297335204\n",
      "Test Accuracy: 0.9801178728070176\n",
      "\n"
     ]
    },
    {
     "name": "stderr",
     "output_type": "stream",
     "text": [
      "\r",
      " 23%|█████████████████████████████▍                                                                                                    | 17/75 [10:39<36:20, 37.59s/it]"
     ]
    },
    {
     "name": "stdout",
     "output_type": "stream",
     "text": [
      "train indices 23519 val indices 5880\n",
      "Epoch: 0018 cost= 0.036796506\n",
      "Train Accuracy: 0.9897909329913238\n",
      "Validation Accuracy: 0.9894427156381487\n",
      "Test Accuracy: 0.9804303728070175\n",
      "\n"
     ]
    },
    {
     "name": "stderr",
     "output_type": "stream",
     "text": [
      "\r",
      " 24%|███████████████████████████████▏                                                                                                  | 18/75 [11:15<35:40, 37.55s/it]"
     ]
    },
    {
     "name": "stdout",
     "output_type": "stream",
     "text": [
      "train indices 23519 val indices 5880\n",
      "Epoch: 0019 cost= 0.034516606\n",
      "Train Accuracy: 0.9895849200014623\n",
      "Validation Accuracy: 0.9889496406030855\n",
      "Test Accuracy: 0.9788678728070175\n",
      "\n"
     ]
    },
    {
     "name": "stderr",
     "output_type": "stream",
     "text": [
      "\r",
      " 25%|████████████████████████████████▉                                                                                                 | 19/75 [11:52<35:01, 37.52s/it]"
     ]
    },
    {
     "name": "stdout",
     "output_type": "stream",
     "text": [
      "train indices 23519 val indices 5880\n",
      "Epoch: 0020 cost= 0.032911885\n",
      "Train Accuracy: 0.9907438858695652\n",
      "Validation Accuracy: 0.9884236938990183\n",
      "Test Accuracy: 0.9792584978070176\n",
      "\n"
     ]
    },
    {
     "name": "stderr",
     "output_type": "stream",
     "text": [
      "\r",
      " 27%|██████████████████████████████████▋                                                                                               | 20/75 [12:29<34:22, 37.49s/it]"
     ]
    },
    {
     "name": "stdout",
     "output_type": "stream",
     "text": [
      "train indices 23519 val indices 5880\n",
      "Epoch: 0021 cost= 0.029213598\n",
      "Train Accuracy: 0.9914531265232014\n",
      "Validation Accuracy: 0.9891139989481066\n",
      "Test Accuracy: 0.9798053728070175\n",
      "\n"
     ]
    },
    {
     "name": "stderr",
     "output_type": "stream",
     "text": [
      "\r",
      " 28%|████████████████████████████████████▍                                                                                             | 21/75 [13:06<33:41, 37.43s/it]"
     ]
    },
    {
     "name": "stdout",
     "output_type": "stream",
     "text": [
      "train indices 23519 val indices 5880\n",
      "Epoch: 0022 cost= 0.028195522\n",
      "Train Accuracy: 0.9922724184782609\n",
      "Validation Accuracy: 0.9901384992987378\n",
      "Test Accuracy: 0.9809772478070176\n",
      "\n"
     ]
    },
    {
     "name": "stderr",
     "output_type": "stream",
     "text": [
      "\r",
      " 29%|██████████████████████████████████████▏                                                                                           | 22/75 [13:42<33:00, 37.37s/it]"
     ]
    },
    {
     "name": "stdout",
     "output_type": "stream",
     "text": [
      "train indices 23519 val indices 5880\n",
      "Epoch: 0023 cost= 0.026265420\n",
      "Train Accuracy: 0.992635702013063\n",
      "Validation Accuracy: 0.9913109221598878\n",
      "Test Accuracy: 0.9807428728070176\n",
      "\n"
     ]
    },
    {
     "name": "stderr",
     "output_type": "stream",
     "text": [
      "\r",
      " 31%|███████████████████████████████████████▊                                                                                          | 23/75 [14:18<32:21, 37.34s/it]"
     ]
    },
    {
     "name": "stdout",
     "output_type": "stream",
     "text": [
      "train indices 23519 val indices 5880\n",
      "Epoch: 0024 cost= 0.024384619\n",
      "Train Accuracy: 0.9929517663043478\n",
      "Validation Accuracy: 0.9915026735624124\n",
      "Test Accuracy: 0.9813678728070175\n",
      "\n"
     ]
    },
    {
     "name": "stderr",
     "output_type": "stream",
     "text": [
      "\r",
      " 32%|█████████████████████████████████████████▌                                                                                        | 24/75 [14:55<31:43, 37.32s/it]"
     ]
    },
    {
     "name": "stdout",
     "output_type": "stream",
     "text": [
      "train indices 23519 val indices 5880\n",
      "Epoch: 0025 cost= 0.025424959\n",
      "Train Accuracy: 0.9928243885869565\n",
      "Validation Accuracy: 0.9933708800841515\n",
      "Test Accuracy: 0.9808991228070175\n",
      "\n"
     ]
    },
    {
     "name": "stderr",
     "output_type": "stream",
     "text": [
      "\r",
      " 33%|███████████████████████████████████████████▎                                                                                      | 25/75 [15:32<31:04, 37.29s/it]"
     ]
    },
    {
     "name": "stdout",
     "output_type": "stream",
     "text": [
      "train indices 23519 val indices 5880\n",
      "Epoch: 0026 cost= 0.022417882\n",
      "Train Accuracy: 0.9938308439145057\n",
      "Validation Accuracy: 0.9914917163394109\n",
      "Test Accuracy: 0.9812116228070176\n",
      "\n"
     ]
    },
    {
     "name": "stderr",
     "output_type": "stream",
     "text": [
      "\r",
      " 35%|█████████████████████████████████████████████                                                                                     | 26/75 [16:10<30:29, 37.33s/it]"
     ]
    },
    {
     "name": "stdout",
     "output_type": "stream",
     "text": [
      "train indices 23519 val indices 5880\n",
      "Epoch: 0027 cost= 0.024987273\n",
      "Train Accuracy: 0.9922598520666795\n",
      "Validation Accuracy: 0.9915081521739131\n",
      "Test Accuracy: 0.9802741228070175\n",
      "\n"
     ]
    },
    {
     "name": "stderr",
     "output_type": "stream",
     "text": [
      "\r",
      " 36%|██████████████████████████████████████████████▊                                                                                   | 27/75 [16:49<29:55, 37.40s/it]"
     ]
    },
    {
     "name": "stdout",
     "output_type": "stream",
     "text": [
      "train indices 23519 val indices 5880\n",
      "Epoch: 0028 cost= 0.020216405\n",
      "Train Accuracy: 0.9943104619565217\n",
      "Validation Accuracy: 0.992351858345021\n",
      "Test Accuracy: 0.9814459978070176\n",
      "\n"
     ]
    },
    {
     "name": "stderr",
     "output_type": "stream",
     "text": [
      "\r",
      " 37%|████████████████████████████████████████████████▌                                                                                 | 28/75 [17:27<29:17, 37.40s/it]"
     ]
    },
    {
     "name": "stdout",
     "output_type": "stream",
     "text": [
      "train indices 23519 val indices 5880\n",
      "Epoch: 0029 cost= 0.026267300\n",
      "Train Accuracy: 0.9915380450014623\n",
      "Validation Accuracy: 0.9881004558204769\n",
      "Test Accuracy: 0.979141995614035\n",
      "\n"
     ]
    },
    {
     "name": "stderr",
     "output_type": "stream",
     "text": [
      "\r",
      " 39%|██████████████████████████████████████████████████▎                                                                               | 29/75 [18:05<28:41, 37.42s/it]"
     ]
    },
    {
     "name": "stdout",
     "output_type": "stream",
     "text": [
      "train indices 23519 val indices 5880\n",
      "Epoch: 0030 cost= 0.021051906\n",
      "Train Accuracy: 0.9932489809782609\n",
      "Validation Accuracy: 0.9901494565217391\n",
      "Test Accuracy: 0.9799616228070175\n",
      "\n"
     ]
    },
    {
     "name": "stderr",
     "output_type": "stream",
     "text": [
      "\r",
      " 40%|████████████████████████████████████████████████████                                                                              | 30/75 [18:41<28:02, 37.39s/it]"
     ]
    },
    {
     "name": "stdout",
     "output_type": "stream",
     "text": [
      "train indices 23519 val indices 5880\n",
      "Epoch: 0031 cost= 0.016557873\n",
      "Train Accuracy: 0.9952382820116007\n",
      "Validation Accuracy: 0.9947295757363254\n",
      "Test Accuracy: 0.9820709978070176\n",
      "\n"
     ]
    },
    {
     "name": "stderr",
     "output_type": "stream",
     "text": [
      "\r",
      " 41%|█████████████████████████████████████████████████████▋                                                                            | 31/75 [19:20<27:27, 37.44s/it]"
     ]
    },
    {
     "name": "stdout",
     "output_type": "stream",
     "text": [
      "train indices 23519 val indices 5880\n",
      "Epoch: 0032 cost= 0.015916840\n",
      "Train Accuracy: 0.9954804710348021\n",
      "Validation Accuracy: 0.9950637710378681\n",
      "Test Accuracy: 0.9823053728070176\n",
      "\n"
     ]
    },
    {
     "name": "stderr",
     "output_type": "stream",
     "text": [
      "\r",
      " 43%|███████████████████████████████████████████████████████▍                                                                          | 32/75 [19:59<26:52, 37.50s/it]"
     ]
    },
    {
     "name": "stdout",
     "output_type": "stream",
     "text": [
      "train indices 23519 val indices 5880\n",
      "Epoch: 0033 cost= 0.014961477\n",
      "Train Accuracy: 0.99620856130581\n",
      "Validation Accuracy: 0.9938584765077139\n",
      "Test Accuracy: 0.9813678728070175\n",
      "\n"
     ]
    },
    {
     "name": "stderr",
     "output_type": "stream",
     "text": [
      "\r",
      " 44%|█████████████████████████████████████████████████████████▏                                                                        | 33/75 [20:38<26:15, 37.52s/it]"
     ]
    },
    {
     "name": "stdout",
     "output_type": "stream",
     "text": [
      "train indices 23519 val indices 5880\n",
      "Epoch: 0034 cost= 0.014452199\n",
      "Train Accuracy: 0.9965969776637746\n",
      "Validation Accuracy: 0.9952336079943899\n",
      "Test Accuracy: 0.9819928728070175\n",
      "\n"
     ]
    },
    {
     "name": "stderr",
     "output_type": "stream",
     "text": [
      "\r",
      " 45%|██████████████████████████████████████████████████████████▉                                                                       | 34/75 [21:14<25:36, 37.48s/it]"
     ]
    },
    {
     "name": "stdout",
     "output_type": "stream",
     "text": [
      "train indices 23519 val indices 5880\n"
     ]
    }
   ],
   "source": [
    "from sklearn.metrics import accuracy_score\n",
    "from tqdm import tqdm\n",
    "\n",
    "epochs = 75\n",
    "batch_size = 512\n",
    "num_batches = int(X_train.shape[0]/batch_size)\n",
    "n_train = int(len(y_train)*0.8)\n",
    "\n",
    "train_accuracy = []\n",
    "val_accuracy = []\n",
    "test_accuracy = []\n",
    "cost_curr = []\n",
    "\n",
    "def eval_cost(X, y):\n",
    "    total_cost = 0\n",
    "    nb_batches = 0\n",
    "    for X,y in get_next_batch(256,X,y):\n",
    "        feed_dict={input_: X, labels: y, learning_rate_ph:current_placeholder_value, keep_prob:1.0}\n",
    "        total_cost += cost.eval(feed_dict=feed_dict)\n",
    "        nb_batches += 1\n",
    "    return total_cost / nb_batches\n",
    "\n",
    "def eval_accuracy(X,y):\n",
    "    nb_batches = 0\n",
    "    total_acc = 0\n",
    "    for X,y in get_next_batch(256,X,y):\n",
    "        feed_dict={input_: X, labels: y, learning_rate_ph:current_placeholder_value, keep_prob:1.0}\n",
    "        y_predicted = np.argmax(output.eval(feed_dict=feed_dict),1)\n",
    "        total_acc += accuracy_score(y,y_predicted)\n",
    "        nb_batches += 1\n",
    "    return total_acc/nb_batches\n",
    "        \n",
    "\n",
    "# Launch the graph\n",
    "with tf.Session() as sess:\n",
    "    sess.run(tf.global_variables_initializer())\n",
    "    current_placeholder_value = 0.001\n",
    "    \n",
    "    for epoch in tqdm(range(epochs)):\n",
    "        # Shuffle data for cross validation\n",
    "        indices = np.array(range(len(y_train)))\n",
    "        np.random.shuffle(indices)\n",
    "        \n",
    "        train_indices = indices[: n_train]\n",
    "        val_indices = indices[n_train:]\n",
    "        \n",
    "        print('train indices', len(train_indices), 'val indices', len(val_indices))\n",
    "        \n",
    "        y_train_fold, X_train_fold, y_val_fold, X_val_fold = y_train[train_indices], X_train[train_indices, :], \\\n",
    "        y_train[val_indices], X_train[val_indices, :]\n",
    "        \n",
    "        # Loop over all batches\n",
    "        for x,y in get_next_batch(batch_size, X_train_fold, y_train_fold):\n",
    "            sess.run(optimizer, \n",
    "                     feed_dict={input_:x, labels:y, learning_rate_ph:current_placeholder_value, keep_prob:0.70})\n",
    "        \n",
    "        \n",
    "        if (epoch+1) % 1 == 0:\n",
    "            # Find training cost.\n",
    "            c = eval_cost(X_train_fold, y_train_fold)\n",
    "            cost_curr.append(c)\n",
    "            # Find train accuracy\n",
    "            current_train_acc = eval_accuracy(X_train_fold,y_train_fold)\n",
    "            train_accuracy.append(current_train_acc)\n",
    "            # Find the validation accuracy\n",
    "            current_val_acc = eval_accuracy(X_val_fold, y_val_fold)\n",
    "            val_accuracy.append(current_val_acc)\n",
    "            # Find test accuracy\n",
    "            test_acc = eval_accuracy(X_test, y_test)\n",
    "            test_accuracy.append(test_acc)\n",
    "            \n",
    "            \n",
    "            print(\"Epoch:\", '%04d' % (epoch+1), \"cost=\", \"{:.9f}\".format(c))\n",
    "            print(\"Train Accuracy:\", current_train_acc)\n",
    "            print(\"Validation Accuracy:\", current_val_acc)\n",
    "            print(\"Test Accuracy:\",test_acc)\n",
    "            print()\n",
    "            \n",
    "            if test_acc > 0.99:\n",
    "                saver = tf.train.Saver()\n",
    "                saver.save(sess,'./mnist-acc{}'.format(test_acc*100.0),global_step=epoch+1)\n",
    "              \n",
    "    \n",
    "    print(\"Optimization Finished!\")\n",
    "    # Find test accuracy\n",
    "    print(\"Test Accuracy:\",eval_accuracy(X_test, y_test) )\n",
    "    \n",
    "    tf.train.write_graph(\n",
    "   tf.get_default_graph().as_graph_def(),\n",
    "   './graphs/',\n",
    "   'mnist.pbtxt',\n",
    "   as_text=True)\n",
    "    \n",
    "    tf.train.write_graph(\n",
    "    tf.get_default_graph().as_graph_def(),\n",
    "    './graphs/',\n",
    "    'mnist.pb',\n",
    "    as_text=False\n",
    "    )\n",
    "    \n",
    "    \n"
   ]
  },
  {
   "cell_type": "code",
   "execution_count": 15,
   "metadata": {},
   "outputs": [
    {
     "data": {
      "image/png": "[encoded data removed]",
      "text/plain": [
       "<Figure size 432x288 with 1 Axes>"
      ]
     },
     "metadata": {},
     "output_type": "display_data"
    }
   ],
   "source": [
    "plt.plot(train_accuracy, 'b-', val_accuracy, 'r-', test_accuracy,'k-')\n",
    "plt.show()"
   ]
  },
  {
   "cell_type": "code",
   "execution_count": 16,
   "metadata": {},
   "outputs": [
    {
     "data": {
      "image/png": "[encoded data removed]",
      "text/plain": [
       "<Figure size 432x288 with 1 Axes>"
      ]
     },
     "metadata": {},
     "output_type": "display_data"
    }
   ],
   "source": [
    "plt.plot(cost_curr, 'b-')\n",
    "plt.show()"
   ]
  },
  {
   "cell_type": "code",
   "execution_count": 17,
   "metadata": {},
   "outputs": [
    {
     "ename": "NameError",
     "evalue": "name 'y_predicted_test' is not defined",
     "output_type": "error",
     "traceback": [
      "\u001b[1;31m---------------------------------------------------------------------------\u001b[0m",
      "\u001b[1;31mNameError\u001b[0m                                 Traceback (most recent call last)",
      "\u001b[1;32m<ipython-input-17-d410dd7a0075>\u001b[0m in \u001b[0;36m<module>\u001b[1;34m()\u001b[0m\n\u001b[0;32m      1\u001b[0m \u001b[1;32mfrom\u001b[0m \u001b[0msklearn\u001b[0m\u001b[1;33m.\u001b[0m\u001b[0mmetrics\u001b[0m \u001b[1;32mimport\u001b[0m \u001b[0mconfusion_matrix\u001b[0m\u001b[1;33m\u001b[0m\u001b[0m\n\u001b[0;32m      2\u001b[0m \u001b[1;33m\u001b[0m\u001b[0m\n\u001b[1;32m----> 3\u001b[1;33m \u001b[0mconfusion_matrix\u001b[0m\u001b[1;33m(\u001b[0m\u001b[0my_true\u001b[0m\u001b[1;33m=\u001b[0m\u001b[0my_test\u001b[0m\u001b[1;33m,\u001b[0m \u001b[0my_pred\u001b[0m\u001b[1;33m=\u001b[0m\u001b[0my_predicted_test\u001b[0m\u001b[1;33m)\u001b[0m\u001b[1;33m\u001b[0m\u001b[0m\n\u001b[0m",
      "\u001b[1;31mNameError\u001b[0m: name 'y_predicted_test' is not defined"
     ]
    }
   ],
   "source": [
    "from sklearn.metrics import confusion_matrix\n",
    "\n",
    "confusion_matrix(y_true=y_test, y_pred=y_predicted_test)"
   ]
  },
  {
   "cell_type": "code",
   "execution_count": 18,
   "metadata": {},
   "outputs": [
    {
     "ename": "NameError",
     "evalue": "name 'y_predicted_test' is not defined",
     "output_type": "error",
     "traceback": [
      "\u001b[1;31m---------------------------------------------------------------------------\u001b[0m",
      "\u001b[1;31mNameError\u001b[0m                                 Traceback (most recent call last)",
      "\u001b[1;32m<ipython-input-18-7341de938253>\u001b[0m in \u001b[0;36m<module>\u001b[1;34m()\u001b[0m\n\u001b[1;32m----> 1\u001b[1;33m \u001b[0mindices\u001b[0m \u001b[1;33m=\u001b[0m \u001b[0mnp\u001b[0m\u001b[1;33m.\u001b[0m\u001b[0mwhere\u001b[0m\u001b[1;33m(\u001b[0m\u001b[0mnp\u001b[0m\u001b[1;33m.\u001b[0m\u001b[0mlogical_and\u001b[0m\u001b[1;33m(\u001b[0m\u001b[0my_predicted_test\u001b[0m \u001b[1;33m==\u001b[0m \u001b[1;36m7\u001b[0m\u001b[1;33m,\u001b[0m \u001b[0my_test\u001b[0m\u001b[1;33m.\u001b[0m\u001b[0msqueeze\u001b[0m\u001b[1;33m(\u001b[0m\u001b[1;33m)\u001b[0m \u001b[1;33m==\u001b[0m \u001b[1;36m9\u001b[0m\u001b[1;33m)\u001b[0m\u001b[1;33m)\u001b[0m\u001b[1;33m[\u001b[0m\u001b[1;36m0\u001b[0m\u001b[1;33m]\u001b[0m\u001b[1;33m\u001b[0m\u001b[0m\n\u001b[0m\u001b[0;32m      2\u001b[0m \u001b[1;32mfor\u001b[0m \u001b[0mi\u001b[0m \u001b[1;32min\u001b[0m \u001b[0mindices\u001b[0m\u001b[1;33m:\u001b[0m\u001b[1;33m\u001b[0m\u001b[0m\n\u001b[0;32m      3\u001b[0m     \u001b[0mplt\u001b[0m\u001b[1;33m.\u001b[0m\u001b[0mfigure\u001b[0m\u001b[1;33m(\u001b[0m\u001b[0mfigsize\u001b[0m\u001b[1;33m=\u001b[0m\u001b[1;33m(\u001b[0m\u001b[1;36m0.50\u001b[0m\u001b[1;33m,\u001b[0m\u001b[1;36m0.50\u001b[0m\u001b[1;33m)\u001b[0m\u001b[1;33m)\u001b[0m\u001b[1;33m\u001b[0m\u001b[0m\n\u001b[0;32m      4\u001b[0m     \u001b[0mplt\u001b[0m\u001b[1;33m.\u001b[0m\u001b[0mimshow\u001b[0m\u001b[1;33m(\u001b[0m\u001b[0mX_test\u001b[0m\u001b[1;33m[\u001b[0m\u001b[0mi\u001b[0m\u001b[1;33m]\u001b[0m\u001b[1;33m.\u001b[0m\u001b[0mreshape\u001b[0m\u001b[1;33m(\u001b[0m\u001b[1;33m[\u001b[0m\u001b[1;36m28\u001b[0m\u001b[1;33m,\u001b[0m\u001b[1;36m28\u001b[0m\u001b[1;33m]\u001b[0m\u001b[1;33m)\u001b[0m\u001b[1;33m,\u001b[0m\u001b[0mcmap\u001b[0m\u001b[1;33m=\u001b[0m\u001b[1;34m'gray'\u001b[0m\u001b[1;33m)\u001b[0m\u001b[1;33m\u001b[0m\u001b[0m\n\u001b[0;32m      5\u001b[0m     \u001b[0mplt\u001b[0m\u001b[1;33m.\u001b[0m\u001b[0mshow\u001b[0m\u001b[1;33m(\u001b[0m\u001b[1;33m)\u001b[0m\u001b[1;33m\u001b[0m\u001b[0m\n",
      "\u001b[1;31mNameError\u001b[0m: name 'y_predicted_test' is not defined"
     ]
    }
   ],
   "source": [
    "indices = np.where(np.logical_and(y_predicted_test == 7, y_test.squeeze() == 9))[0]\n",
    "for i in indices:\n",
    "    plt.figure(figsize=(0.50,0.50))\n",
    "    plt.imshow(X_test[i].reshape([28,28]),cmap='gray')\n",
    "    plt.show()"
   ]
  },
  {
   "cell_type": "code",
   "execution_count": null,
   "metadata": {},
   "outputs": [],
   "source": []
  }
 ],
 "metadata": {
  "kernelspec": {
   "display_name": "Python 3",
   "language": "python",
   "name": "python3"
  },
  "language_info": {
   "codemirror_mode": {
    "name": "ipython",
    "version": 3
   },
   "file_extension": ".py",
   "mimetype": "text/x-python",
   "name": "python",
   "nbconvert_exporter": "python",
   "pygments_lexer": "ipython3",
   "version": "3.6.5"
  }
 },
 "nbformat": 4,
 "nbformat_minor": 2
}
